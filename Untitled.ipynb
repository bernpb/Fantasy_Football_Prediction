{
 "cells": [
  {
   "cell_type": "code",
   "execution_count": 5,
   "id": "b8198c37-f59e-4b4b-9ab2-54f088da6910",
   "metadata": {},
   "outputs": [],
   "source": [
    "import os.path\n",
    "from pathlib import Path\n",
    "\n",
    "import pandas as pd"
   ]
  },
  {
   "cell_type": "code",
   "execution_count": 6,
   "id": "29dd67d4-a69a-48cb-9cb4-0ca5d81e4850",
   "metadata": {},
   "outputs": [
    {
     "name": "stdout",
     "output_type": "stream",
     "text": [
      "   Unnamed: 0    GameKey  PlayerID  SeasonType  Season             GameDate  \\\n",
      "0           0  201810122      8283           1    2018  2018-09-09T13:00:00   \n",
      "1           1  201810122     18878           1    2018  2018-09-09T13:00:00   \n",
      "2           2  201810122      7242           1    2018  2018-09-09T13:00:00   \n",
      "3           3  201810110     13022           1    2018  2018-09-09T16:25:00   \n",
      "4           4  201810129     18082           1    2018  2018-09-09T16:05:00   \n",
      "\n",
      "   Week Team Opponent HomeOrAway  ...  FieldGoalsMade0to19  \\\n",
      "0     1   TB       NO       AWAY  ...                  0.0   \n",
      "1     1   NO       TB       HOME  ...                  0.0   \n",
      "2     1   NO       TB       HOME  ...                  0.0   \n",
      "3     1  DEN      SEA       HOME  ...                  0.0   \n",
      "4     1   KC      LAC       AWAY  ...                  0.0   \n",
      "\n",
      "  FieldGoalsMade20to29 FieldGoalsMade30to39 FieldGoalsMade40to49  \\\n",
      "0                  0.0                  0.0                  0.0   \n",
      "1                  0.0                  0.0                  0.0   \n",
      "2                  0.0                  0.0                  0.0   \n",
      "3                  0.0                  0.0                  0.0   \n",
      "4                  0.0                  0.0                  0.0   \n",
      "\n",
      "   FieldGoalsMade50Plus  FantasyPointsDraftKings  InjuryStatus  TeamID  \\\n",
      "0                   0.0                    45.28           NaN      33   \n",
      "1                   0.0                    46.10           NaN      22   \n",
      "2                   0.0                    34.56           NaN      22   \n",
      "3                   0.0                     0.00           NaN      10   \n",
      "4                   0.0                    45.30           NaN      16   \n",
      "\n",
      "   OpponentID  ScoreID  \n",
      "0          22    16660  \n",
      "1          33    16660  \n",
      "2          33    16660  \n",
      "3          30    16664  \n",
      "4          29    16663  \n",
      "\n",
      "[5 rows x 81 columns]\n"
     ]
    }
   ],
   "source": [
    "my_file = Path('Data/2018REG.csv')\n",
    "if my_file.is_file():\n",
    "    data = pd.read_csv(my_file)\n",
    "    print(data.head())\n",
    "else:\n",
    "    print(f'{my_file} does not exist at the current directory')"
   ]
  },
  {
   "cell_type": "code",
   "execution_count": null,
   "id": "d67f6526-7644-48b2-bb03-65c6428f5054",
   "metadata": {},
   "outputs": [],
   "source": []
  }
 ],
 "metadata": {
  "kernelspec": {
   "display_name": "Python [conda env:LHLFinal]",
   "language": "python",
   "name": "conda-env-LHLFinal-py"
  },
  "language_info": {
   "codemirror_mode": {
    "name": "ipython",
    "version": 3
   },
   "file_extension": ".py",
   "mimetype": "text/x-python",
   "name": "python",
   "nbconvert_exporter": "python",
   "pygments_lexer": "ipython3",
   "version": "3.9.7"
  }
 },
 "nbformat": 4,
 "nbformat_minor": 5
}
