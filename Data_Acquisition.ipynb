{
 "cells": [
  {
   "cell_type": "code",
   "execution_count": 1,
   "id": "fe7c9889-61bf-4202-bc3b-ca6bba90e370",
   "metadata": {},
   "outputs": [],
   "source": [
    "import requests\n",
    "import pandas as pd\n",
    "import json\n",
    "import config\n",
    "import time"
   ]
  },
  {
   "cell_type": "code",
   "execution_count": 2,
   "id": "02e93594-f884-4fcd-88d9-40e6cc993b69",
   "metadata": {},
   "outputs": [],
   "source": [
    "# API key\n",
    "key = config.sports_key"
   ]
  },
  {
   "cell_type": "markdown",
   "id": "7f1c5611-bd1d-4a28-957f-3f8ff6c34fd3",
   "metadata": {},
   "source": [
    "### Define the functions required to execute the get requests and loop over the weeks of the season to build the dataframe\n",
    "\n",
    "Get the data for each week of a season.  Save the data as a .csv file with the name being the season parameter passed to the API."
   ]
  },
  {
   "cell_type": "code",
   "execution_count": 3,
   "id": "0bfdc363-b8e9-4b41-95d2-b5a054bfa9a8",
   "metadata": {},
   "outputs": [],
   "source": [
    "\n",
    "def get_players_by_week(season, week):\n",
    "    \n",
    "    \"\"\"\n",
    "    Function takes in two parameters:\n",
    "    - Season: Input in the format '2020REG' or '2020POST' (string)\n",
    "    - Week: Week of play (int)\n",
    "    \n",
    "    Outputs a json object of every player's stat line for the indicated week.\n",
    "    \"\"\"\n",
    "\n",
    "    # Define the URL being used to access the data\n",
    "    URL = f'https://api.sportsdata.io/api/nfl/fantasy/json/PlayerGameStatsByWeek/{season}/{week}'\n",
    "\n",
    "    # Format the key for use with the URL\n",
    "    # get request\n",
    "    r = requests.get(URL, headers = {'Ocp-Apim-Subscription-Key': f'{key}'})\n",
    "    # Convert response to JSON object\n",
    "    data = r.json()\n",
    "\n",
    "    return data\n",
    "\n",
    "def get_season_stats(season, weeks_to_get):\n",
    "    \n",
    "    \"\"\"\n",
    "    Take in two parameters:\n",
    "    - season: Input in the format '2018REG'\n",
    "    - weeks_to_get: Number of weeks of data to get.  Will always start at week 1\n",
    "    \n",
    "    Sends a request for player stats for each week of that season.  Converts response \n",
    "    to a dataframe using json_normalize().  Each subsequent week's dataframe is \n",
    "    appended to the first.\n",
    "    \"\"\"\n",
    "    \n",
    "    # Initialize an empty dataframe\n",
    "    season_data = pd.DataFrame()\n",
    "    \n",
    "    # Loop over the weeks in the season, turning the response to a dataframe object\n",
    "    for i in range(1, weeks_to_get + 1):\n",
    "        print(f'Getting stats for week {i} of {season}.')\n",
    "        \n",
    "        # Store JSON object as temporary variable\n",
    "        temp = get_players_by_week(season, i)\n",
    "        # Convert JSON object to dataframe\n",
    "        temp_df = pd.json_normalize(temp)\n",
    "        # Append temp_df to season_data\n",
    "        season_data = season_data.append(temp_df)\n",
    "        print('Sleeping for 300 seconds')\n",
    "        \n",
    "        # Respect the 5 minute interval between requests\n",
    "        \n",
    "        time.sleep(300)\n",
    "    \n",
    "    # Write the data to CSV for safe keeping\n",
    "    print('Done looping.  Saving dataframe to a csv file.')\n",
    "    season_data.to_csv(f'Data/{season}.csv')\n",
    "    print(f'.csv saved at \".../Data/{season}.csv\"')\n",
    "    return season_data"
   ]
  },
  {
   "cell_type": "code",
   "execution_count": 4,
   "id": "7ca1dafc-830c-4a8e-8eab-f29c717b9671",
   "metadata": {},
   "outputs": [
    {
     "name": "stdout",
     "output_type": "stream",
     "text": [
      "Getting stats for week 1 of 2018REG.\n",
      "Sleeping for 300 seconds\n",
      "Getting stats for week 2 of 2018REG.\n",
      "Sleeping for 300 seconds\n",
      "Getting stats for week 3 of 2018REG.\n",
      "Sleeping for 300 seconds\n",
      "Getting stats for week 4 of 2018REG.\n",
      "Sleeping for 300 seconds\n",
      "Getting stats for week 5 of 2018REG.\n",
      "Sleeping for 300 seconds\n",
      "Getting stats for week 6 of 2018REG.\n",
      "Sleeping for 300 seconds\n",
      "Getting stats for week 7 of 2018REG.\n",
      "Sleeping for 300 seconds\n",
      "Getting stats for week 8 of 2018REG.\n",
      "Sleeping for 300 seconds\n",
      "Getting stats for week 9 of 2018REG.\n",
      "Sleeping for 300 seconds\n",
      "Getting stats for week 10 of 2018REG.\n",
      "Sleeping for 300 seconds\n",
      "Getting stats for week 11 of 2018REG.\n",
      "Sleeping for 300 seconds\n",
      "Getting stats for week 12 of 2018REG.\n",
      "Sleeping for 300 seconds\n",
      "Getting stats for week 13 of 2018REG.\n",
      "Sleeping for 300 seconds\n",
      "Getting stats for week 14 of 2018REG.\n",
      "Sleeping for 300 seconds\n",
      "Getting stats for week 15 of 2018REG.\n",
      "Sleeping for 300 seconds\n",
      "Getting stats for week 16 of 2018REG.\n",
      "Sleeping for 300 seconds\n",
      "Getting stats for week 17 of 2018REG.\n",
      "Sleeping for 300 seconds\n",
      "Done looping.  Saving dataframe to a csv file.\n",
      ".csv saved at \".../Data/2018REG.csv\"\n"
     ]
    }
   ],
   "source": [
    "# Get weekly player stats for the 2018 regular season\n",
    "df_2018 = get_season_stats('2018REG', 17)"
   ]
  },
  {
   "cell_type": "code",
   "execution_count": 5,
   "id": "2b95857d-c15b-4207-b0f5-97e007182f7c",
   "metadata": {},
   "outputs": [
    {
     "name": "stdout",
     "output_type": "stream",
     "text": [
      "Getting stats for week 1 of 2019REG.\n",
      "Sleeping for 300 seconds\n",
      "Getting stats for week 2 of 2019REG.\n",
      "Sleeping for 300 seconds\n",
      "Getting stats for week 3 of 2019REG.\n",
      "Sleeping for 300 seconds\n",
      "Getting stats for week 4 of 2019REG.\n",
      "Sleeping for 300 seconds\n",
      "Getting stats for week 5 of 2019REG.\n",
      "Sleeping for 300 seconds\n",
      "Getting stats for week 6 of 2019REG.\n",
      "Sleeping for 300 seconds\n",
      "Getting stats for week 7 of 2019REG.\n",
      "Sleeping for 300 seconds\n",
      "Getting stats for week 8 of 2019REG.\n",
      "Sleeping for 300 seconds\n",
      "Getting stats for week 9 of 2019REG.\n",
      "Sleeping for 300 seconds\n",
      "Getting stats for week 10 of 2019REG.\n",
      "Sleeping for 300 seconds\n",
      "Getting stats for week 11 of 2019REG.\n",
      "Sleeping for 300 seconds\n",
      "Getting stats for week 12 of 2019REG.\n",
      "Sleeping for 300 seconds\n",
      "Getting stats for week 13 of 2019REG.\n",
      "Sleeping for 300 seconds\n",
      "Getting stats for week 14 of 2019REG.\n",
      "Sleeping for 300 seconds\n",
      "Getting stats for week 15 of 2019REG.\n",
      "Sleeping for 300 seconds\n",
      "Getting stats for week 16 of 2019REG.\n",
      "Sleeping for 300 seconds\n",
      "Getting stats for week 17 of 2019REG.\n",
      "Sleeping for 300 seconds\n",
      "Done looping.  Saving dataframe to a csv file.\n",
      ".csv saved at \".../Data/2019REG.csv\"\n"
     ]
    }
   ],
   "source": [
    "# Get weekly player stats for the 2019 regular season\n",
    "df_2019 = get_season_stats('2019REG', 17)"
   ]
  },
  {
   "cell_type": "code",
   "execution_count": 6,
   "id": "c7e019cb-3f59-4818-a6ec-7171116e4305",
   "metadata": {},
   "outputs": [
    {
     "name": "stdout",
     "output_type": "stream",
     "text": [
      "Getting stats for week 1 of 2020REG.\n",
      "Sleeping for 300 seconds\n",
      "Getting stats for week 2 of 2020REG.\n",
      "Sleeping for 300 seconds\n",
      "Getting stats for week 3 of 2020REG.\n",
      "Sleeping for 300 seconds\n",
      "Getting stats for week 4 of 2020REG.\n",
      "Sleeping for 300 seconds\n",
      "Getting stats for week 5 of 2020REG.\n",
      "Sleeping for 300 seconds\n",
      "Getting stats for week 6 of 2020REG.\n",
      "Sleeping for 300 seconds\n",
      "Getting stats for week 7 of 2020REG.\n",
      "Sleeping for 300 seconds\n",
      "Getting stats for week 8 of 2020REG.\n",
      "Sleeping for 300 seconds\n",
      "Getting stats for week 9 of 2020REG.\n",
      "Sleeping for 300 seconds\n",
      "Getting stats for week 10 of 2020REG.\n",
      "Sleeping for 300 seconds\n",
      "Getting stats for week 11 of 2020REG.\n",
      "Sleeping for 300 seconds\n",
      "Getting stats for week 12 of 2020REG.\n",
      "Sleeping for 300 seconds\n",
      "Getting stats for week 13 of 2020REG.\n",
      "Sleeping for 300 seconds\n",
      "Getting stats for week 14 of 2020REG.\n",
      "Sleeping for 300 seconds\n",
      "Getting stats for week 15 of 2020REG.\n",
      "Sleeping for 300 seconds\n",
      "Getting stats for week 16 of 2020REG.\n",
      "Sleeping for 300 seconds\n",
      "Getting stats for week 17 of 2020REG.\n",
      "Sleeping for 300 seconds\n",
      "Done looping.  Saving dataframe to a csv file.\n",
      ".csv saved at \".../Data/2020REG.csv\"\n"
     ]
    }
   ],
   "source": [
    "# Get weekly player stats for the 2020 regular season\n",
    "df_2020 = get_season_stats('2020REG', 17)"
   ]
  },
  {
   "cell_type": "code",
   "execution_count": 7,
   "id": "7dd34590-c1c6-4355-b7c9-e86452c6aca5",
   "metadata": {},
   "outputs": [
    {
     "name": "stdout",
     "output_type": "stream",
     "text": [
      "Getting stats for week 1 of 2021REG.\n",
      "Sleeping for 300 seconds\n",
      "Getting stats for week 2 of 2021REG.\n",
      "Sleeping for 300 seconds\n",
      "Getting stats for week 3 of 2021REG.\n",
      "Sleeping for 300 seconds\n",
      "Getting stats for week 4 of 2021REG.\n",
      "Sleeping for 300 seconds\n",
      "Getting stats for week 5 of 2021REG.\n",
      "Sleeping for 300 seconds\n",
      "Getting stats for week 6 of 2021REG.\n",
      "Sleeping for 300 seconds\n",
      "Getting stats for week 7 of 2021REG.\n",
      "Sleeping for 300 seconds\n",
      "Getting stats for week 8 of 2021REG.\n",
      "Sleeping for 300 seconds\n",
      "Getting stats for week 9 of 2021REG.\n",
      "Sleeping for 300 seconds\n",
      "Getting stats for week 10 of 2021REG.\n",
      "Sleeping for 300 seconds\n",
      "Done looping.  Saving dataframe to a csv file.\n",
      ".csv saved at \".../Data/2021REG.csv\"\n"
     ]
    }
   ],
   "source": [
    "# Get weekly player stats for the first 10 weeks of the 2021 regular season\n",
    "df_2021 = get_season_stats('2021REG', 10)"
   ]
  },
  {
   "cell_type": "code",
   "execution_count": null,
   "id": "d5f9c6f1-a113-422a-af23-1bf540dfad77",
   "metadata": {},
   "outputs": [],
   "source": []
  },
  {
   "cell_type": "code",
   "execution_count": null,
   "id": "cb846390-0b84-40e2-a834-30586d00741c",
   "metadata": {},
   "outputs": [],
   "source": []
  },
  {
   "cell_type": "code",
   "execution_count": null,
   "id": "7e5bfb6d-799f-452e-847a-ce37a7c00f84",
   "metadata": {},
   "outputs": [],
   "source": []
  }
 ],
 "metadata": {
  "kernelspec": {
   "display_name": "Python [conda env:LHLFinal]",
   "language": "python",
   "name": "conda-env-LHLFinal-py"
  },
  "language_info": {
   "codemirror_mode": {
    "name": "ipython",
    "version": 3
   },
   "file_extension": ".py",
   "mimetype": "text/x-python",
   "name": "python",
   "nbconvert_exporter": "python",
   "pygments_lexer": "ipython3",
   "version": "3.9.7"
  }
 },
 "nbformat": 4,
 "nbformat_minor": 5
}
